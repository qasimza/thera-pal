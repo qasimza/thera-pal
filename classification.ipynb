{
 "cells": [
  {
   "metadata": {},
   "cell_type": "markdown",
   "source": "# Classification for Advice Types",
   "id": "e2a5b5e6ffcc5610"
  },
  {
   "metadata": {},
   "cell_type": "markdown",
   "source": "## Import data and understand costs for classification using Open AI",
   "id": "26d8a98484c6413e"
  },
  {
   "metadata": {
    "ExecuteTime": {
     "end_time": "2025-04-24T04:33:55.250857Z",
     "start_time": "2025-04-24T04:33:55.245028Z"
    }
   },
   "cell_type": "code",
   "source": [
    "import pandas as pd\n",
    "from transformers import pipeline\n",
    "import numpy as np\n",
    "import csv\n",
    "import os\n"
   ],
   "id": "7d56eddb068d8c17",
   "outputs": [],
   "execution_count": 70
  },
  {
   "metadata": {
    "ExecuteTime": {
     "end_time": "2025-04-24T03:57:09.682635Z",
     "start_time": "2025-04-24T03:57:09.634806Z"
    }
   },
   "cell_type": "code",
   "source": "df = pd.read_csv(\"data/20200325_counsel_chat.csv\")",
   "id": "bcfd58c233a222b5",
   "outputs": [],
   "execution_count": 45
  },
  {
   "metadata": {
    "ExecuteTime": {
     "end_time": "2025-04-24T03:01:42.532534Z",
     "start_time": "2025-04-24T03:01:42.519178Z"
    }
   },
   "cell_type": "code",
   "source": [
    "answers = df[\"answerText\"].dropna().unique().tolist()\n",
    "super_string = ' '.join(answers)\n",
    "num_tokens = len(super_string) / 4\n",
    "input_price = 1.100 * num_tokens / 1000000\n",
    "output_price = 4.4 * len(answers) * 20 / 1000000\n",
    "total_price = input_price + output_price\n",
    "print(input_price, output_price)\n",
    "print(f'Minimum cost of classification using openAI o4-mini ${total_price}')"
   ],
   "id": "e03a51d2e17f68af",
   "outputs": [
    {
     "name": "stdout",
     "output_type": "stream",
     "text": [
      "0.542162775 0.176704\n",
      "Minimum cost of classification using openAI o4-mini $0.718866775\n"
     ]
    }
   ],
   "execution_count": 25
  },
  {
   "metadata": {},
   "cell_type": "markdown",
   "source": "## Zero-shot Classification Approach",
   "id": "6d97bf3b05e2c5aa"
  },
  {
   "metadata": {
    "ExecuteTime": {
     "end_time": "2025-04-24T04:16:28.976812Z",
     "start_time": "2025-04-24T04:16:26.012294Z"
    }
   },
   "cell_type": "code",
   "source": [
    "classifier = pipeline(\"zero-shot-classification\", model=\"facebook/bart-large-mnli\")\n",
    "labels = [\" Practical Life Advice\", \"Empathetic response\", \"Resource suggestion\"]"
   ],
   "id": "7e5cc36ad3d884e6",
   "outputs": [
    {
     "name": "stderr",
     "output_type": "stream",
     "text": [
      "Device set to use mps:0\n"
     ]
    }
   ],
   "execution_count": 60
  },
  {
   "metadata": {
    "ExecuteTime": {
     "end_time": "2025-04-24T04:16:29.835237Z",
     "start_time": "2025-04-24T04:16:29.674942Z"
    }
   },
   "cell_type": "code",
   "source": [
    "direct_advice = classifier(\"I recommend establishing a consistent sleep schedule and limiting screen time an hour before bed. Try using a sleep diary to track your patterns and notice what improves your rest.\", candidate_labels=labels, multi_label=True)\n",
    "print(direct_advice[\"labels\"], direct_advice[\"scores\"])"
   ],
   "id": "4ba5be30f51af175",
   "outputs": [
    {
     "name": "stdout",
     "output_type": "stream",
     "text": [
      "[' Practical Life Advice', 'Resource suggestion', 'Empathetic response'] [0.8517794013023376, 0.7835465669631958, 0.5683595538139343]\n"
     ]
    }
   ],
   "execution_count": 61
  },
  {
   "metadata": {
    "ExecuteTime": {
     "end_time": "2025-04-24T04:16:31.296852Z",
     "start_time": "2025-04-24T04:16:31.122131Z"
    }
   },
   "cell_type": "code",
   "source": [
    "empathetic_response = classifier(\"It sounds like you’ve been carrying a lot on your own lately. I want you to know that it’s completely valid to feel overwhelmed, and I’m here to support you through this.\", candidate_labels=labels, multi_label=True)\n",
    "print(empathetic_response[\"labels\"], empathetic_response[\"scores\"])"
   ],
   "id": "9f465c46f2ed8256",
   "outputs": [
    {
     "name": "stdout",
     "output_type": "stream",
     "text": [
      "['Empathetic response', 'Resource suggestion', ' Practical Life Advice'] [0.9629988074302673, 0.6677781939506531, 0.46740734577178955]\n"
     ]
    }
   ],
   "execution_count": 62
  },
  {
   "metadata": {
    "ExecuteTime": {
     "end_time": "2025-04-24T04:16:47.690716Z",
     "start_time": "2025-04-24T04:16:47.495225Z"
    }
   },
   "cell_type": "code",
   "source": [
    "resource_suggestion = classifier(\"You might find it helpful to try the Headspace app for guided meditations, or explore 'The Feeling Good Handbook' by Dr. David Burns — it’s a great resource for managing negative thoughts.\", candidate_labels=labels, multi_label=True)\n",
    "print(resource_suggestion[\"labels\"], resource_suggestion[\"scores\"])"
   ],
   "id": "3be1fc32cfe7219b",
   "outputs": [
    {
     "name": "stdout",
     "output_type": "stream",
     "text": [
      "['Resource suggestion', 'Empathetic response', ' Practical Life Advice'] [0.962764322757721, 0.5002696514129639, 0.014397886581718922]\n"
     ]
    }
   ],
   "execution_count": 63
  },
  {
   "metadata": {
    "ExecuteTime": {
     "end_time": "2025-04-24T04:16:55.194292Z",
     "start_time": "2025-04-24T04:16:55.022917Z"
    }
   },
   "cell_type": "code",
   "source": [
    "diagnosis = classifier(\"Given the patient’s reports of persistent low mood, lack of interest in activities, and trouble sleeping for more than two weeks, these symptoms are consistent with major depressive disorder. You may want to further assess using the PHQ-9\", candidate_labels=labels, multi_label=True)\n",
    "print(diagnosis[\"labels\"], diagnosis[\"scores\"])"
   ],
   "id": "5f52578d8fa613e5",
   "outputs": [
    {
     "name": "stdout",
     "output_type": "stream",
     "text": [
      "['Resource suggestion', 'Empathetic response', ' Practical Life Advice'] [0.8775472640991211, 0.16735967993736267, 0.08701489120721817]\n"
     ]
    }
   ],
   "execution_count": 64
  },
  {
   "metadata": {
    "ExecuteTime": {
     "end_time": "2025-04-24T04:17:01.238773Z",
     "start_time": "2025-04-24T04:17:00.863032Z"
    }
   },
   "cell_type": "code",
   "source": [
    "treatment = classifier(\"That is intense. Depression is a liar. Sometimes depression places these glasses over our eyes, these dark sunglasses that change how we see things.\\xa0Depression tells us things like you\\'re worthless no one likes you don\\'t worry about doing anything. And it is so easy for us to listen and to be tricked into thinking that just because we feel something means it is true. Please know that even if you are feeling worthless right now, that doesn\\'t mean you are worthless.The first step to working through this is recognizing what is going on. Recognizing when depression is telling you the same story (ie; being worthless) with different words (ie worthless here, worthless there) and making an effort to talk back.\\xa0While I can not give you a diagnosis of depression, reading what you are going through, it sounds like you might need help to get back on track. Seeing a counselor can open an entirely new option up wherein someone who is not involved in your life can help you without judgement and with an objective perspective. This can do wonders in unwrapping these kinds of thoughts. Wishing you the absolute best!\", candidate_labels=labels, multi_label=True)\n",
    "print(treatment[\"labels\"], treatment[\"scores\"])"
   ],
   "id": "edb82a7a1d71fdbf",
   "outputs": [
    {
     "name": "stdout",
     "output_type": "stream",
     "text": [
      "['Resource suggestion', 'Empathetic response', ' Practical Life Advice'] [0.8477880358695984, 0.8398752808570862, 0.5635181665420532]\n"
     ]
    }
   ],
   "execution_count": 65
  },
  {
   "metadata": {},
   "cell_type": "markdown",
   "source": "Zero shot classification approach above is free. However, it may not be the most accurate. From the above 5 examples, it seems like its good at classifying `Direct advice`, `Resource suggestion`, `Empathetic responses`. However, it is inaccurate when it comes to `Diagnosis` or `Treatment`. OpenAI will most likely be alot more accurate but it is not free. Due to the time constraint, and low cost of classification using OpenAI, it seems like the most reasonable move. There is a chance that OPEN AI might hallucinate or give undesirable results. But overall it is the least time-consuming option and the trade-off is worth it. Additionally, the labels could be useful in training a supervised machine learning algorithm in the future and using that to classify instead of making API calls to OpenAI",
   "id": "1223619a2a0097"
  },
  {
   "metadata": {},
   "cell_type": "markdown",
   "source": "## Low-shot classification",
   "id": "efa47e7034c8b75f"
  },
  {
   "metadata": {
    "ExecuteTime": {
     "end_time": "2025-04-24T04:22:26.559992Z",
     "start_time": "2025-04-24T04:22:26.537171Z"
    }
   },
   "cell_type": "code",
   "outputs": [],
   "execution_count": 66,
   "source": [
    "import time\n",
    "from openai import OpenAI\n",
    "\n",
    "client = OpenAI(api_key=\"\")\n",
    "\n",
    "answers = df[\"answerText\"].dropna().tolist()\n",
    "\n",
    "classified = []\n",
    "\n",
    "system_prompt = \"\"\"You are a classifier that assigns therapist answers into one or more of the following categories:\n",
    "   Practical Life Advice: Actionable suggestions to improve sleep, routine, self-care, gratitude, or navigating social environments.\n",
    "    Emotional Support and Validation: Suggest ways the therapist can validate the patient’s feelings and build rapport.,\n",
    "    Resource Suggestion: Recommend tools, exercises, or materials the therapist can offer the patient..,\n",
    "    Psychoeducation: Diagnose whether the patient's symptoms align with a mental health condition, based on their description.\n",
    "\n",
    "\n",
    "Return only the most relevant categories as a Comma separated list. Do not include anything else\"\"\"\n",
    "\n"
   ],
   "id": "385a8f78c4bef40a"
  },
  {
   "metadata": {
    "ExecuteTime": {
     "end_time": "2025-04-24T05:55:15.192102Z",
     "start_time": "2025-04-24T05:30:34.382235Z"
    }
   },
   "cell_type": "code",
   "source": [
    "# File to save results\n",
    "output_file = \"data/classified_results.csv\"\n",
    "\n",
    "# File to save results\n",
    "output_file = \"data/classified_results.csv\"\n",
    "\n",
    "# Create output file and write header if it doesn't exist\n",
    "if not os.path.exists(output_file):\n",
    "    with open(output_file, mode=\"w\", newline='', encoding='utf-8') as f:\n",
    "        writer = csv.writer(f)\n",
    "        writer.writerow([\"index\", \"answerText\", \"adviceType\"])\n",
    "\n",
    "# Iterate over the dataframe\n",
    "for i, row in df.iterrows():\n",
    "    answer = row['answerText'].strip()\n",
    "    label = \"error\"  # Default to \"error\" in case of failure\n",
    "\n",
    "    # Try 3 times before moving to the next row\n",
    "    for attempt in range(3):\n",
    "        try:\n",
    "            response = client.chat.completions.create(\n",
    "                model=\"gpt-3.5-turbo\",\n",
    "                messages=[\n",
    "                    {\"role\": \"system\", \"content\": system_prompt},\n",
    "                    {\"role\": \"user\", \"content\": answer}\n",
    "                ],\n",
    "                temperature=0,\n",
    "            )\n",
    "            label = response.choices[0].message.content.strip()\n",
    "            break  # Exit the retry loop if successful\n",
    "        except Exception as e:\n",
    "            print(f\"Error on row {i}, attempt {attempt + 1}: {e}\")\n",
    "            time.sleep(5)\n",
    "\n",
    "    # Write the result to CSV immediately after processing the row\n",
    "    with open(output_file, mode=\"a\", newline='', encoding='utf-8') as f:\n",
    "        writer = csv.writer(f)\n",
    "        writer.writerow([i, answer, label])"
   ],
   "id": "471cd23fe53cbabd",
   "outputs": [],
   "execution_count": 72
  }
 ],
 "metadata": {
  "kernelspec": {
   "display_name": "Python 3",
   "language": "python",
   "name": "python3"
  },
  "language_info": {
   "codemirror_mode": {
    "name": "ipython",
    "version": 2
   },
   "file_extension": ".py",
   "mimetype": "text/x-python",
   "name": "python",
   "nbconvert_exporter": "python",
   "pygments_lexer": "ipython2",
   "version": "2.7.6"
  }
 },
 "nbformat": 4,
 "nbformat_minor": 5
}
