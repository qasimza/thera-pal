{
 "cells": [
  {
   "metadata": {},
   "cell_type": "markdown",
   "source": "# Classification for Advice Types",
   "id": "e2a5b5e6ffcc5610"
  },
  {
   "metadata": {},
   "cell_type": "markdown",
   "source": "## Import data and understand costs for classification using Open AI",
   "id": "26d8a98484c6413e"
  },
  {
   "metadata": {
    "ExecuteTime": {
     "end_time": "2025-04-24T20:26:38.863650Z",
     "start_time": "2025-04-24T20:26:36.441918Z"
    }
   },
   "cell_type": "code",
   "source": [
    "import pandas as pd\n",
    "from transformers import pipeline\n",
    "import numpy as np\n",
    "import csv\n",
    "import os\n"
   ],
   "id": "7d56eddb068d8c17",
   "outputs": [
    {
     "name": "stderr",
     "output_type": "stream",
     "text": [
      "/Users/zainaqasim/Library/Python/3.9/lib/python/site-packages/urllib3/__init__.py:35: NotOpenSSLWarning: urllib3 v2 only supports OpenSSL 1.1.1+, currently the 'ssl' module is compiled with 'LibreSSL 2.8.3'. See: https://github.com/urllib3/urllib3/issues/3020\n",
      "  warnings.warn(\n",
      "/Users/zainaqasim/Library/Python/3.9/lib/python/site-packages/tqdm/auto.py:21: TqdmWarning: IProgress not found. Please update jupyter and ipywidgets. See https://ipywidgets.readthedocs.io/en/stable/user_install.html\n",
      "  from .autonotebook import tqdm as notebook_tqdm\n"
     ]
    }
   ],
   "execution_count": 4
  },
  {
   "metadata": {
    "ExecuteTime": {
     "end_time": "2025-04-24T20:26:44.265755Z",
     "start_time": "2025-04-24T20:26:44.239806Z"
    }
   },
   "cell_type": "code",
   "source": "df = pd.read_csv(\"data/20200325_counsel_chat.csv\")",
   "id": "bcfd58c233a222b5",
   "outputs": [],
   "execution_count": 5
  },
  {
   "metadata": {
    "ExecuteTime": {
     "end_time": "2025-04-24T20:26:49.159197Z",
     "start_time": "2025-04-24T20:26:49.147562Z"
    }
   },
   "cell_type": "code",
   "source": [
    "answers = df[\"answerText\"].dropna().unique().tolist()\n",
    "super_string = ' '.join(answers)\n",
    "num_tokens = len(super_string) / 4\n",
    "input_price = 1.100 * num_tokens / 1000000\n",
    "output_price = 4.4 * len(answers) * 20 / 1000000\n",
    "total_price = input_price + output_price\n",
    "print(input_price, output_price)\n",
    "print(f'Minimum cost of classification using openAI o4-mini ${total_price}')"
   ],
   "id": "e03a51d2e17f68af",
   "outputs": [
    {
     "name": "stdout",
     "output_type": "stream",
     "text": [
      "0.542162775 0.176704\n",
      "Minimum cost of classification using openAI o4-mini $0.718866775\n"
     ]
    }
   ],
   "execution_count": 6
  },
  {
   "metadata": {},
   "cell_type": "markdown",
   "source": "## Zero-shot Classification Approach",
   "id": "6d97bf3b05e2c5aa"
  },
  {
   "metadata": {
    "ExecuteTime": {
     "end_time": "2025-04-24T20:26:54.571201Z",
     "start_time": "2025-04-24T20:26:52.208454Z"
    }
   },
   "cell_type": "code",
   "source": [
    "classifier = pipeline(\"zero-shot-classification\", model=\"facebook/bart-large-mnli\")\n",
    "labels = [\"Practical Life Advice\", \"Emotional Support and Validation\", \"Resource suggestion\", \"Psychoeducation\"]"
   ],
   "id": "7e5cc36ad3d884e6",
   "outputs": [
    {
     "name": "stderr",
     "output_type": "stream",
     "text": [
      "Device set to use mps:0\n"
     ]
    }
   ],
   "execution_count": 7
  },
  {
   "metadata": {
    "ExecuteTime": {
     "end_time": "2025-04-24T20:27:36.058629Z",
     "start_time": "2025-04-24T20:27:35.623224Z"
    }
   },
   "cell_type": "code",
   "source": [
    "practical_life_advice = classifier(\"I recommend establishing a consistent sleep schedule and limiting screen time an hour before bed. Try using a sleep diary to track your patterns and notice what improves your rest.\", candidate_labels=labels, multi_label=True)\n",
    "print(practical_life_advice[\"labels\"], practical_life_advice[\"scores\"])"
   ],
   "id": "4ba5be30f51af175",
   "outputs": [
    {
     "name": "stdout",
     "output_type": "stream",
     "text": [
      "['Practical Life Advice', 'Resource suggestion', 'Emotional Support and Validation', 'Psychoeducation'] [0.8553107976913452, 0.7835465669631958, 0.3436373174190521, 0.25082144141197205]\n"
     ]
    }
   ],
   "execution_count": 8
  },
  {
   "metadata": {
    "ExecuteTime": {
     "end_time": "2025-04-24T04:16:31.296852Z",
     "start_time": "2025-04-24T04:16:31.122131Z"
    }
   },
   "cell_type": "code",
   "source": [
    "empathetic_response = classifier(\"It sounds like you’ve been carrying a lot on your own lately. I want you to know that it’s completely valid to feel overwhelmed, and I’m here to support you through this.\", candidate_labels=labels, multi_label=True)\n",
    "print(empathetic_response[\"labels\"], empathetic_response[\"scores\"])"
   ],
   "id": "9f465c46f2ed8256",
   "outputs": [
    {
     "name": "stdout",
     "output_type": "stream",
     "text": [
      "['Empathetic response', 'Resource suggestion', ' Practical Life Advice'] [0.9629988074302673, 0.6677781939506531, 0.46740734577178955]\n"
     ]
    }
   ],
   "execution_count": 62
  },
  {
   "metadata": {
    "ExecuteTime": {
     "end_time": "2025-04-24T04:16:47.690716Z",
     "start_time": "2025-04-24T04:16:47.495225Z"
    }
   },
   "cell_type": "code",
   "source": [
    "resource_suggestion = classifier(\"You might find it helpful to try the Headspace app for guided meditations, or explore 'The Feeling Good Handbook' by Dr. David Burns — it’s a great resource for managing negative thoughts.\", candidate_labels=labels, multi_label=True)\n",
    "print(resource_suggestion[\"labels\"], resource_suggestion[\"scores\"])"
   ],
   "id": "3be1fc32cfe7219b",
   "outputs": [
    {
     "name": "stdout",
     "output_type": "stream",
     "text": [
      "['Resource suggestion', 'Empathetic response', ' Practical Life Advice'] [0.962764322757721, 0.5002696514129639, 0.014397886581718922]\n"
     ]
    }
   ],
   "execution_count": 63
  },
  {
   "metadata": {
    "ExecuteTime": {
     "end_time": "2025-04-24T20:34:35.842589Z",
     "start_time": "2025-04-24T20:34:35.058923Z"
    }
   },
   "cell_type": "code",
   "source": [
    "psychoeducation = classifier(\"Anxiety is your body’s natural response to stress or danger. It’s part of our ‘fight or flight’ system, which helps protect us in threatening situations. When you feel anxious, your brain is sending signals to release stress hormones like adrenaline. These can cause symptoms like a racing heart, shortness of breath, or dizziness—similar to what you’ve described during your panic attacks.\", candidate_labels=labels, multi_label=True)\n",
    "print(psychoeducation[\"labels\"], psychoeducation[\"scores\"])"
   ],
   "id": "5f52578d8fa613e5",
   "outputs": [
    {
     "name": "stdout",
     "output_type": "stream",
     "text": [
      "['Resource suggestion', 'Psychoeducation', 'Practical Life Advice', 'Emotional Support and Validation'] [0.7540246248245239, 0.35327744483947754, 0.23505909740924835, 0.03809049725532532]\n"
     ]
    }
   ],
   "execution_count": 11
  },
  {
   "metadata": {},
   "cell_type": "markdown",
   "source": "Zero shot classification approach used above is free. However, it may not be the most accurate. From the above 5 examples, it seems like its good at classifying the first label but not that great with the second or third. But, it leaves room for false positives for the second and third labels. OpenAI will most likely be alot more accurate but it is not free. Due to the time constraint, and low cost of classification using OpenAI, it seems like the most reasonable move to label a reasonable amount of rows, and then use these synthetically labelled data to train my own classifier. There is a chance that OPEN AI might hallucinate or give undesirable results. But overall it is the least time-consuming option and the trade-off is worth it. Additionally, the labels could be useful in training a supervised machine learning algorithm in the future and using that to classify instead of making API calls to OpenAI",
   "id": "1223619a2a0097"
  },
  {
   "metadata": {},
   "cell_type": "markdown",
   "source": "## Classification using OpenAI",
   "id": "efa47e7034c8b75f"
  },
  {
   "metadata": {
    "ExecuteTime": {
     "end_time": "2025-04-24T04:22:26.559992Z",
     "start_time": "2025-04-24T04:22:26.537171Z"
    }
   },
   "cell_type": "code",
   "outputs": [],
   "execution_count": 66,
   "source": [
    "import time\n",
    "from openai import OpenAI\n",
    "\n",
    "client = OpenAI(api_key=\"\")\n",
    "\n",
    "answers = df[\"answerText\"].dropna().tolist()\n",
    "\n",
    "classified = []\n",
    "\n",
    "system_prompt = \"\"\"You are a classifier that assigns therapist answers into one or more of the following categories:\n",
    "   Practical Life Advice: Actionable suggestions to improve sleep, routine, self-care, gratitude, or navigating social environments.\n",
    "    Emotional Support and Validation: Suggest ways the therapist can validate the patient’s feelings and build rapport.,\n",
    "    Resource Suggestion: Recommend tools, exercises, or materials the therapist can offer the patient..,\n",
    "    Psychoeducation: Diagnose whether the patient's symptoms align with a mental health condition, based on their description.\n",
    "\n",
    "\n",
    "Return only the most relevant categories as a Comma separated list. Do not include anything else\"\"\"\n",
    "\n"
   ],
   "id": "385a8f78c4bef40a"
  },
  {
   "metadata": {
    "ExecuteTime": {
     "end_time": "2025-04-24T05:55:15.192102Z",
     "start_time": "2025-04-24T05:30:34.382235Z"
    }
   },
   "cell_type": "code",
   "source": [
    "# File to save results\n",
    "output_file = \"data/combined_results.csv\"\n",
    "\n",
    "# Create output file and write header if it doesn't exist\n",
    "if not os.path.exists(output_file):\n",
    "    with open(output_file, mode=\"w\", newline='', encoding='utf-8') as f:\n",
    "        writer = csv.writer(f)\n",
    "        writer.writerow([\"index\", \"answerText\", \"adviceType\"])\n",
    "\n",
    "# Iterate over the dataframe\n",
    "for i, row in df.head(5000).iterrows():\n",
    "    answer = row['answerText'].strip()\n",
    "    label = \"error\"  # Default to \"error\" in case of failure\n",
    "\n",
    "    # Try 3 times before moving to the next row\n",
    "    for attempt in range(3):\n",
    "        try:\n",
    "            response = client.chat.completions.create(\n",
    "                model=\"gpt-4.1-mini\",\n",
    "                messages=[\n",
    "                    {\"role\": \"system\", \"content\": system_prompt},\n",
    "                    {\"role\": \"user\", \"content\": answer}\n",
    "                ],\n",
    "                temperature=0,\n",
    "            )\n",
    "            label = response.choices[0].message.content.strip()\n",
    "            break  # Exit the retry loop if successful\n",
    "        except Exception as e:\n",
    "            print(f\"Error on row {i}, attempt {attempt + 1}: {e}\")\n",
    "            time.sleep(5)\n",
    "\n",
    "    # Write the result to CSV immediately after processing the row\n",
    "    with open(output_file, mode=\"a\", newline='', encoding='utf-8') as f:\n",
    "        writer = csv.writer(f)\n",
    "        writer.writerow([i, answer, label])"
   ],
   "id": "471cd23fe53cbabd",
   "outputs": [],
   "execution_count": 72
  },
  {
   "metadata": {},
   "cell_type": "markdown",
   "source": "## Training my own multi-class, multi-label classifier using OpenAI generated labels",
   "id": "3670db5c0b550bfd"
  },
  {
   "metadata": {},
   "cell_type": "markdown",
   "source": "### Selecting LinearSVC for the model. Implementing Multi-Label, Multi-Class Classificaiton",
   "id": "8884e7fc7197934b"
  },
  {
   "metadata": {
    "ExecuteTime": {
     "end_time": "2025-04-24T16:34:26.736368Z",
     "start_time": "2025-04-24T16:34:26.728723Z"
    }
   },
   "cell_type": "code",
   "source": [
    "from sklearn.feature_extraction.text import TfidfVectorizer\n",
    "from sklearn.svm import LinearSVC\n",
    "from sklearn.pipeline import make_pipeline\n",
    "from sklearn.model_selection import KFold\n",
    "from sklearn.metrics import  hamming_loss\n",
    "from sklearn.multioutput import MultiOutputClassifier\n",
    "import pickle\n",
    "\n",
    "# Format Dataframe for training\n",
    "def get_training_df():\n",
    "    training_dataset = 'data/combined_results.csv'\n",
    "    data = pd.read_csv(training_dataset)\n",
    "    data['document'] = data['answerText']\n",
    "\n",
    "    # Create a column for each advice type\n",
    "    advice_types = [\n",
    "    'Practical Life Advice',\n",
    "    'Emotional Support and Validation',\n",
    "    'Resource Suggestion',\n",
    "    'Psychoeducation'\n",
    "        ]\n",
    "\n",
    "    for advice in advice_types:\n",
    "        data[advice] = data['adviceType'].apply(lambda x: advice in str(x))\n",
    "\n",
    "    data = data[['document', 'Practical Life Advice', 'Emotional Support and Validation', 'Resource Suggestion', 'Psychoeducation']]\n",
    "\n",
    "    return data\n",
    "\n",
    "# Get training and taget dataframes\n",
    "def get_training_and_target_df(data):\n",
    "    X = data['document']\n",
    "    y = data[['Practical Life Advice', 'Emotional Support and Validation', 'Resource Suggestion', 'Psychoeducation']]\n",
    "    return X, y\n",
    "\n",
    "# Model Training\n",
    "def train_model(X, y, save=False):\n",
    "    model = make_pipeline(\n",
    "        TfidfVectorizer(ngram_range=(1, 3), stop_words='english'),\n",
    "        MultiOutputClassifier(LinearSVC())\n",
    "    )\n",
    "    model.fit(X, y)\n",
    "    if save:\n",
    "        pickle.dump(model, open('classifier/therapal_classifier.sav', 'wb'))\n",
    "    return model\n",
    "\n",
    "# K-Fold Cross Validation\n",
    "def cross_validate_model(x, y, pipe, test_size=10):\n",
    "    kf = KFold(n_splits=test_size, shuffle=True, random_state=42)\n",
    "    cross_val_results = np.array([])\n",
    "    for train_index, test_index in kf.split(x, y):\n",
    "        x_train, x_test = x.iloc[train_index], x.iloc[test_index]\n",
    "        y_train, y_test = y.iloc[train_index], y.iloc[test_index]\n",
    "        pipe.fit(x_train, y_train)\n",
    "        y_pred = pipe.predict(x_test)\n",
    "        hamming_loss_value = hamming_loss(y_test, y_pred)\n",
    "        cross_val_results = np.append(cross_val_results, 1 - hamming_loss_value)\n",
    "    return cross_val_results, cross_val_results.mean()\n",
    "\n",
    "\n",
    "# Function to predict new documents\n",
    "def get_prediction(document, model):\n",
    "    prediction = model.predict([document])\n",
    "    labels = ['Practical Life Advice', 'Emotional Support and Validation', 'Resource Suggestion', 'Psychoeducation']\n",
    "    result = [label for value, label in zip(prediction[0], labels) if value]\n",
    "    return result\n",
    "\n"
   ],
   "id": "b47168c7bd143c5f",
   "outputs": [],
   "execution_count": 26
  },
  {
   "metadata": {
    "ExecuteTime": {
     "end_time": "2025-04-24T16:34:37.795143Z",
     "start_time": "2025-04-24T16:34:37.757637Z"
    }
   },
   "cell_type": "code",
   "source": "get_training_df()",
   "id": "29b516d9d274c1d6",
   "outputs": [
    {
     "data": {
      "text/plain": [
       "                                               document  \\\n",
       "0     If everyone thinks you're worthless, then mayb...   \n",
       "1     Hello, and thank you for your question and see...   \n",
       "2     First thing I'd suggest is getting the sleep y...   \n",
       "3     Therapy is essential for those that are feelin...   \n",
       "4     I first want to let you know that you are not ...   \n",
       "...                                                 ...   \n",
       "2366  There are probably no two therapists alike bec...   \n",
       "2367  Each counselor may have a different process, s...   \n",
       "2368  After meeting a client, many Counselors will a...   \n",
       "2369  A good therapist will discuss what brought you...   \n",
       "2370  Great question which I imagine many other peop...   \n",
       "\n",
       "      Practical Life Advice  Emotional Support and Validation  \\\n",
       "0                      True                              True   \n",
       "1                     False                              True   \n",
       "2                      True                              True   \n",
       "3                     False                             False   \n",
       "4                      True                              True   \n",
       "...                     ...                               ...   \n",
       "2366                  False                              True   \n",
       "2367                   True                              True   \n",
       "2368                  False                             False   \n",
       "2369                   True                              True   \n",
       "2370                  False                              True   \n",
       "\n",
       "      Resource Suggestion  Psychoeducation  \n",
       "0                   False            False  \n",
       "1                    True            False  \n",
       "2                   False            False  \n",
       "3                    True             True  \n",
       "4                   False            False  \n",
       "...                   ...              ...  \n",
       "2366                False            False  \n",
       "2367                False            False  \n",
       "2368                 True             True  \n",
       "2369                False            False  \n",
       "2370                False             True  \n",
       "\n",
       "[2371 rows x 5 columns]"
      ],
      "text/html": [
       "<div>\n",
       "<style scoped>\n",
       "    .dataframe tbody tr th:only-of-type {\n",
       "        vertical-align: middle;\n",
       "    }\n",
       "\n",
       "    .dataframe tbody tr th {\n",
       "        vertical-align: top;\n",
       "    }\n",
       "\n",
       "    .dataframe thead th {\n",
       "        text-align: right;\n",
       "    }\n",
       "</style>\n",
       "<table border=\"1\" class=\"dataframe\">\n",
       "  <thead>\n",
       "    <tr style=\"text-align: right;\">\n",
       "      <th></th>\n",
       "      <th>document</th>\n",
       "      <th>Practical Life Advice</th>\n",
       "      <th>Emotional Support and Validation</th>\n",
       "      <th>Resource Suggestion</th>\n",
       "      <th>Psychoeducation</th>\n",
       "    </tr>\n",
       "  </thead>\n",
       "  <tbody>\n",
       "    <tr>\n",
       "      <th>0</th>\n",
       "      <td>If everyone thinks you're worthless, then mayb...</td>\n",
       "      <td>True</td>\n",
       "      <td>True</td>\n",
       "      <td>False</td>\n",
       "      <td>False</td>\n",
       "    </tr>\n",
       "    <tr>\n",
       "      <th>1</th>\n",
       "      <td>Hello, and thank you for your question and see...</td>\n",
       "      <td>False</td>\n",
       "      <td>True</td>\n",
       "      <td>True</td>\n",
       "      <td>False</td>\n",
       "    </tr>\n",
       "    <tr>\n",
       "      <th>2</th>\n",
       "      <td>First thing I'd suggest is getting the sleep y...</td>\n",
       "      <td>True</td>\n",
       "      <td>True</td>\n",
       "      <td>False</td>\n",
       "      <td>False</td>\n",
       "    </tr>\n",
       "    <tr>\n",
       "      <th>3</th>\n",
       "      <td>Therapy is essential for those that are feelin...</td>\n",
       "      <td>False</td>\n",
       "      <td>False</td>\n",
       "      <td>True</td>\n",
       "      <td>True</td>\n",
       "    </tr>\n",
       "    <tr>\n",
       "      <th>4</th>\n",
       "      <td>I first want to let you know that you are not ...</td>\n",
       "      <td>True</td>\n",
       "      <td>True</td>\n",
       "      <td>False</td>\n",
       "      <td>False</td>\n",
       "    </tr>\n",
       "    <tr>\n",
       "      <th>...</th>\n",
       "      <td>...</td>\n",
       "      <td>...</td>\n",
       "      <td>...</td>\n",
       "      <td>...</td>\n",
       "      <td>...</td>\n",
       "    </tr>\n",
       "    <tr>\n",
       "      <th>2366</th>\n",
       "      <td>There are probably no two therapists alike bec...</td>\n",
       "      <td>False</td>\n",
       "      <td>True</td>\n",
       "      <td>False</td>\n",
       "      <td>False</td>\n",
       "    </tr>\n",
       "    <tr>\n",
       "      <th>2367</th>\n",
       "      <td>Each counselor may have a different process, s...</td>\n",
       "      <td>True</td>\n",
       "      <td>True</td>\n",
       "      <td>False</td>\n",
       "      <td>False</td>\n",
       "    </tr>\n",
       "    <tr>\n",
       "      <th>2368</th>\n",
       "      <td>After meeting a client, many Counselors will a...</td>\n",
       "      <td>False</td>\n",
       "      <td>False</td>\n",
       "      <td>True</td>\n",
       "      <td>True</td>\n",
       "    </tr>\n",
       "    <tr>\n",
       "      <th>2369</th>\n",
       "      <td>A good therapist will discuss what brought you...</td>\n",
       "      <td>True</td>\n",
       "      <td>True</td>\n",
       "      <td>False</td>\n",
       "      <td>False</td>\n",
       "    </tr>\n",
       "    <tr>\n",
       "      <th>2370</th>\n",
       "      <td>Great question which I imagine many other peop...</td>\n",
       "      <td>False</td>\n",
       "      <td>True</td>\n",
       "      <td>False</td>\n",
       "      <td>True</td>\n",
       "    </tr>\n",
       "  </tbody>\n",
       "</table>\n",
       "<p>2371 rows × 5 columns</p>\n",
       "</div>"
      ]
     },
     "execution_count": 27,
     "metadata": {},
     "output_type": "execute_result"
    }
   ],
   "execution_count": 27
  },
  {
   "metadata": {},
   "cell_type": "markdown",
   "source": "### Testing model accuracy using k-fold cross validation",
   "id": "41514dfccd33d5be"
  },
  {
   "metadata": {
    "ExecuteTime": {
     "end_time": "2025-04-24T16:34:40.398543Z",
     "start_time": "2025-04-24T16:34:40.395160Z"
    }
   },
   "cell_type": "code",
   "source": [
    "pipe = make_pipeline(\n",
    "        TfidfVectorizer(ngram_range=(1, 3), stop_words='english'),\n",
    "        MultiOutputClassifier(LinearSVC())\n",
    "    )"
   ],
   "id": "d28699cb4f7a2ecb",
   "outputs": [],
   "execution_count": 28
  },
  {
   "metadata": {
    "ExecuteTime": {
     "end_time": "2025-04-24T16:34:41.670401Z",
     "start_time": "2025-04-24T16:34:41.634449Z"
    }
   },
   "cell_type": "code",
   "source": "X, y = get_training_and_target_df(get_training_df())",
   "id": "acd7c1237d73fa12",
   "outputs": [],
   "execution_count": 29
  },
  {
   "metadata": {
    "ExecuteTime": {
     "end_time": "2025-04-24T16:34:48.392437Z",
     "start_time": "2025-04-24T16:34:43.335111Z"
    }
   },
   "cell_type": "code",
   "source": "cross_validate_model(X, y, pipe, test_size=10)",
   "id": "d39313a85626b352",
   "outputs": [
    {
     "data": {
      "text/plain": [
       "(array([0.83928571, 0.84810127, 0.84599156, 0.85443038, 0.82805907,\n",
       "        0.8407173 , 0.84599156, 0.85021097, 0.84388186, 0.83438819]),\n",
       " np.float64(0.8431057866184449))"
      ]
     },
     "execution_count": 30,
     "metadata": {},
     "output_type": "execute_result"
    }
   ],
   "execution_count": 30
  },
  {
   "metadata": {
    "ExecuteTime": {
     "end_time": "2025-04-24T16:18:06.906091Z",
     "start_time": "2025-04-24T16:18:06.310394Z"
    }
   },
   "cell_type": "code",
   "source": "model = train_model(X, y, save=True)",
   "id": "d2d4ccf2cac02fa0",
   "outputs": [],
   "execution_count": 10
  },
  {
   "metadata": {},
   "cell_type": "markdown",
   "source": "### Test model functionality using a test_string",
   "id": "ffc4a37a0154c551"
  },
  {
   "metadata": {
    "ExecuteTime": {
     "end_time": "2025-04-24T16:38:04.017596Z",
     "start_time": "2025-04-24T16:38:04.009471Z"
    }
   },
   "cell_type": "code",
   "source": [
    "test_document = \"\"\"\n",
    "\"It's completely normal to feel overwhelmed at times. Try to take things one step at a time, and don’t hesitate to lean on those around you. Have you considered making a daily routine or journaling your thoughts? It might help bring some structure and emotional clarity. If these feelings persist, speaking to a mental health professional could offer you additional support.\n",
    "\"\"\"\n",
    "\n",
    "get_prediction(test_document, model)"
   ],
   "id": "97914fc2615aa38f",
   "outputs": [
    {
     "data": {
      "text/plain": [
       "['Practical Life Advice',\n",
       " 'Emotional Support and Validation',\n",
       " 'Resource Suggestion']"
      ]
     },
     "execution_count": 32,
     "metadata": {},
     "output_type": "execute_result"
    }
   ],
   "execution_count": 32
  }
 ],
 "metadata": {
  "kernelspec": {
   "display_name": "Python 3",
   "language": "python",
   "name": "python3"
  },
  "language_info": {
   "codemirror_mode": {
    "name": "ipython",
    "version": 2
   },
   "file_extension": ".py",
   "mimetype": "text/x-python",
   "name": "python",
   "nbconvert_exporter": "python",
   "pygments_lexer": "ipython2",
   "version": "2.7.6"
  }
 },
 "nbformat": 4,
 "nbformat_minor": 5
}
